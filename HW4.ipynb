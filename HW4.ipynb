{
 "cells": [
  {
   "cell_type": "markdown",
   "metadata": {},
   "source": [
    "## Непрерывные случайные величины. Функция распределения и плотность распределения вероятностей. Равномерное и нормальное распределение. Центральная предельная теорема ##"
   ]
  },
  {
   "cell_type": "code",
   "execution_count": 41,
   "metadata": {},
   "outputs": [],
   "source": [
    "import pandas as pd\n",
    "import numpy as np\n",
    "import matplotlib.pyplot as plt"
   ]
  },
  {
   "cell_type": "markdown",
   "metadata": {},
   "source": [
    "**Используя встроенные функции numpy (np.random.normal) сгенирируйте нормальное распределение c размерами выборки 10, 100, 1000 и 10000. Постройте гистограммы распределений. Рассчитайте среднее значение, медиану и моду для каждой выборке и сравните эти величины в пределах выборки.**"
   ]
  },
  {
   "cell_type": "code",
   "execution_count": 42,
   "metadata": {},
   "outputs": [],
   "source": [
    "samples = []\n",
    "n=10\n",
    "i=0\n",
    "while i<4:\n",
    "    sample = np.random.normal (size=n)\n",
    "    samples.append(sample)\n",
    "    n=n*10\n",
    "    i=i+1"
   ]
  },
  {
   "cell_type": "code",
   "execution_count": 43,
   "metadata": {},
   "outputs": [
    {
     "data": {
      "text/plain": [
       "4"
      ]
     },
     "execution_count": 43,
     "metadata": {},
     "output_type": "execute_result"
    }
   ],
   "source": [
    "len(samples)"
   ]
  },
  {
   "cell_type": "code",
   "execution_count": 44,
   "metadata": {},
   "outputs": [
    {
     "data": {
      "text/plain": [
       "[array([ 1.11366049, -2.03104729, -0.35165031,  0.38112179, -0.79441798,\n",
       "         0.71504819, -1.90460156,  1.2755271 , -1.302066  ,  0.4703136 ]),\n",
       " array([ 1.89303782,  1.5269411 ,  1.26133711, -0.57135815,  0.5416915 ,\n",
       "         1.44788739,  0.1754762 , -0.72904961,  0.2530234 , -0.24485361,\n",
       "         1.01805034,  0.38938467, -0.21849169,  1.31926147,  0.91236737,\n",
       "        -0.2318318 ,  0.72680896,  0.31256338,  0.81306374, -0.14500709,\n",
       "        -0.5746016 , -0.07194084, -0.13778911,  0.01908168, -2.18870194,\n",
       "        -0.0278895 ,  1.98828869, -0.18910024,  0.64984801, -0.04800666,\n",
       "         1.24597456,  0.02489965,  0.61190193, -1.24274931,  0.57688031,\n",
       "         0.88850401,  0.40355738,  0.79379657, -0.65649963, -0.06430123,\n",
       "        -0.16015598,  0.05947661,  0.49290467, -0.85667247, -0.0649032 ,\n",
       "         0.8206287 , -0.31030858,  0.24542928,  1.08807487, -0.76414092,\n",
       "         2.4031393 ,  0.55610891, -1.4802867 ,  0.13592841, -0.47098155,\n",
       "         0.08678276, -0.06259202,  1.05451001,  1.02509674, -0.74200897,\n",
       "        -0.92790503,  0.21560975,  2.13505534, -1.73321805, -1.77915464,\n",
       "         0.61217712,  0.36576079,  0.75410981, -0.46905449, -0.50566072,\n",
       "        -0.48808988, -0.3508636 ,  0.32948114, -0.9332529 , -0.63038161,\n",
       "         0.59817339,  0.55175117, -0.75924535, -0.70130387, -0.01165723,\n",
       "         1.94037263, -0.71036472,  0.11745836, -0.27233072, -1.04312036,\n",
       "        -1.29073049,  1.95019836,  1.34014222, -1.05242057,  0.9208104 ,\n",
       "         1.28839127,  1.29532822,  1.68888509,  2.56422747,  0.26924939,\n",
       "         0.77904397, -0.19606532, -0.09441238, -0.27986861,  0.54696513]),\n",
       " array([ 5.31045272e-01,  4.13781117e-01,  9.32166528e-01,  3.32582085e-01,\n",
       "         8.08080565e-01, -7.95038713e-01,  3.98813720e-01,  3.31067119e-01,\n",
       "         7.51394849e-01, -5.69306039e-01,  9.31638846e-01,  4.06118213e-01,\n",
       "         6.54440687e-01, -1.22230094e+00,  1.32802891e+00, -4.38414927e-01,\n",
       "         5.62072645e-01, -5.90953003e-02,  1.03523142e+00, -7.08408891e-02,\n",
       "        -8.35517861e-01,  1.64923668e+00, -5.11764539e-01,  2.26287072e-01,\n",
       "        -4.48270552e-01, -2.01606326e+00,  6.33466298e-01, -5.15896189e-02,\n",
       "         1.10979241e+00, -1.08927267e+00,  6.50496331e-01,  1.87538410e+00,\n",
       "         5.45278049e-01,  7.77408882e-01,  5.07803224e-01,  1.43628484e-01,\n",
       "        -2.40581927e+00,  7.34517745e-01, -1.01488553e+00, -4.77553802e-01,\n",
       "        -5.54343565e-01,  1.46043640e+00, -1.11676811e+00, -1.21293540e+00,\n",
       "        -1.95198587e-01,  6.08056824e-01, -1.10353860e+00,  5.16374274e-01,\n",
       "        -8.15917536e-01, -7.43743705e-01, -2.92007806e-05,  8.30687657e-01,\n",
       "         7.34737809e-01,  1.66330374e+00, -2.79652161e-02,  6.27753451e-02,\n",
       "         9.94455782e-02, -1.43054223e-01,  8.09196062e-02, -2.09028136e-01,\n",
       "        -6.15848767e-01, -2.79735419e-01,  1.49932633e-01, -1.69528680e-02,\n",
       "        -1.92061060e+00,  6.02282125e-01,  1.65754251e+00,  5.38812371e-02,\n",
       "         5.55027710e-01,  1.14605346e+00,  1.03194698e-02, -5.81542551e-01,\n",
       "        -1.98769621e-01, -5.65880773e-01, -3.38833864e-01,  8.14313622e-01,\n",
       "        -6.42207714e-01,  5.21102369e-01, -7.09879191e-01, -1.20011970e+00,\n",
       "        -1.43819810e-01, -1.25097347e+00, -3.83990321e-01,  1.35468678e+00,\n",
       "         5.27915023e-02,  3.24559174e-01,  5.24605585e-01, -2.27963414e-01,\n",
       "        -1.30421823e+00,  9.82907441e-01, -7.96968459e-01, -3.37723197e-01,\n",
       "         4.23635010e-01,  2.90560935e-01, -1.64073087e-01, -1.89857152e+00,\n",
       "         2.57134210e+00, -6.35667331e-01, -2.08148615e+00,  1.15226551e+00,\n",
       "         1.28912548e+00,  1.03028379e+00, -6.31068492e-01, -1.21643609e+00,\n",
       "         6.20659445e-02, -1.13516428e+00, -4.38877922e-01,  1.29455695e-02,\n",
       "         1.51341230e+00,  5.12476471e-02,  9.91975126e-01, -4.07631741e-01,\n",
       "         1.82338999e+00,  2.49203917e+00,  3.94225200e-02, -1.43470342e+00,\n",
       "        -8.44159115e-01, -1.44681222e+00,  1.20034597e+00,  1.28753220e+00,\n",
       "        -7.68670055e-01,  4.60819686e-01, -2.65399990e+00,  9.94098312e-01,\n",
       "         4.81379294e-01, -5.42482912e-01,  6.88095844e-01,  9.75764517e-01,\n",
       "         6.78649868e-01,  9.55462744e-01,  1.05374052e+00,  1.80037302e-01,\n",
       "        -8.21642860e-01,  8.52736167e-01, -6.90802470e-03, -3.64126958e-01,\n",
       "        -1.12399411e+00,  1.52483152e-01, -6.46490931e-01,  7.49544895e-01,\n",
       "         2.38068688e+00, -4.93073441e-01,  7.17026331e-01,  1.04976347e+00,\n",
       "         5.53155999e-01,  7.56324973e-01,  5.61130515e-01, -1.57102253e+00,\n",
       "        -9.79183922e-01, -3.86209927e-01,  9.65879559e-01,  4.45959446e-01,\n",
       "         1.71982401e-01, -3.79260284e-01,  7.15747337e-01, -1.16643895e+00,\n",
       "         1.15821240e-01, -1.24125578e-01, -3.48426687e-01,  4.89246239e-01,\n",
       "        -1.41796079e+00,  7.44270781e-01,  1.96835649e+00,  1.36344781e+00,\n",
       "         1.70183762e+00,  1.25379007e+00, -9.43295508e-03, -1.03640971e+00,\n",
       "        -5.30350858e-01,  3.64666281e-01, -1.54521964e-01, -5.96585467e-01,\n",
       "        -6.51724385e-01,  5.75472844e-01, -1.32718862e+00,  1.10984376e-01,\n",
       "        -2.29394531e+00,  3.01934697e-01,  8.26561441e-01,  1.16843729e+00,\n",
       "        -1.11031471e+00,  1.29585551e-01, -1.63452621e+00, -1.07788717e+00,\n",
       "        -1.78691598e-01,  6.89438622e-01,  3.42646959e-01,  4.68758695e-01,\n",
       "         2.09895977e+00,  7.76120362e-01,  7.95250821e-01, -1.44269945e+00,\n",
       "        -5.48671596e-01,  1.78662229e+00, -4.82968679e-01, -6.17178581e-01,\n",
       "         8.57149828e-02,  1.35436450e+00,  2.59067096e-01,  3.97891668e-01,\n",
       "        -5.14544558e-02, -5.19107695e-01, -3.84177465e-01,  3.07421890e-01,\n",
       "         9.85907933e-01, -1.12761368e+00, -9.23373545e-01, -2.15217223e+00,\n",
       "         7.28390691e-01, -2.82334823e-01,  6.25580147e-01,  2.30326513e-01,\n",
       "        -5.52035788e-01, -6.93098193e-02,  2.43738180e-03, -1.36450135e+00,\n",
       "        -2.98355408e-01, -7.17542625e-01,  8.18916514e-01,  7.23025820e-01,\n",
       "        -4.17124465e-02, -7.70951410e-01, -1.33095219e+00, -1.93983168e+00,\n",
       "        -2.91032918e-01, -7.18093082e-01,  1.71562966e+00,  3.02167128e-01,\n",
       "         7.91181335e-02,  6.81462378e-01, -1.86492355e-01,  1.21474341e+00,\n",
       "         1.38524827e+00, -1.17938531e+00,  1.17769715e+00, -2.60467429e+00,\n",
       "        -4.65904434e-01, -7.46843643e-01,  9.33604441e-02,  9.50405451e-01,\n",
       "         1.61666407e+00,  6.17425907e-02,  1.73219633e-01, -2.66194032e-01,\n",
       "        -9.52770665e-01, -3.75527950e-01, -1.27949044e+00,  4.33812545e-02,\n",
       "         4.88246278e-01,  1.13799240e+00,  9.98916739e-01, -2.29658237e+00,\n",
       "        -1.03814981e-01,  2.88217613e-01,  1.00461433e+00,  5.84487260e-02,\n",
       "        -1.49453695e-01,  1.73236780e+00,  4.28860775e-01,  1.09891061e+00,\n",
       "        -5.15844632e-01,  7.12948268e-01,  1.09049259e+00, -5.73874933e-01,\n",
       "        -5.77369187e-01, -1.30486664e+00, -2.86619132e-01, -2.01231909e+00,\n",
       "         8.84160577e-01,  7.80758752e-01,  3.24680477e-01,  8.32907301e-01,\n",
       "         2.21776661e-01,  4.74266831e-01,  6.98016255e-01,  1.23349270e+00,\n",
       "        -6.28474875e-01, -5.76058360e-01,  4.87944947e-01, -1.23226771e+00,\n",
       "        -4.17629814e-01, -4.92641628e-01,  2.00792585e-01,  8.58057006e-01,\n",
       "         4.57381960e-01, -1.14284736e-01,  4.88804097e-01,  2.40851846e+00,\n",
       "        -9.48021872e-01, -6.27683060e-01, -1.38768438e+00, -1.37296832e+00,\n",
       "        -1.19121262e-01, -2.00881459e+00,  1.83951804e+00,  4.38476926e-01,\n",
       "        -1.51782518e+00,  8.04098132e-01,  8.56405396e-01, -4.68252754e-01,\n",
       "        -6.36862210e-01,  1.87037984e-01,  3.11992448e-01, -6.32300729e-01,\n",
       "         1.07129787e+00, -2.00076603e-01, -5.28761539e-01, -9.54588421e-01,\n",
       "         2.60294709e-01, -1.55628172e-01,  1.32818737e-01,  6.03642049e-01,\n",
       "         1.17115286e+00,  4.82566874e-01, -1.41792677e+00,  2.05379807e-01,\n",
       "        -9.38415962e-02, -1.87745315e-01, -9.51218058e-01, -1.18273683e+00,\n",
       "         1.21791128e+00,  3.71329856e-02, -9.37093115e-01, -9.26751259e-02,\n",
       "        -2.00300450e-01, -1.28063646e-01,  3.23907848e-01, -3.42210771e-01,\n",
       "        -8.82529246e-01, -4.76044318e-01,  1.07962525e+00, -1.61457954e-02,\n",
       "        -2.26901584e-01,  1.02047801e+00,  1.04052482e+00,  1.11555272e+00,\n",
       "         7.45290044e-01,  4.30776619e-01, -1.39950558e+00,  6.12849510e-01,\n",
       "        -4.33868326e-01,  8.36685771e-01, -3.19607811e-01,  1.16722160e+00,\n",
       "         8.75690547e-01, -1.24655336e+00,  7.08718759e-02, -9.58635897e-01,\n",
       "         2.48683194e-01,  6.39059566e-01, -8.86851122e-01, -1.08679571e+00,\n",
       "        -1.36720721e-02,  5.95405784e-01,  1.79959729e+00, -6.94462803e-01,\n",
       "         6.21333611e-01,  4.17623784e-01,  5.34301084e-01,  1.26372716e+00,\n",
       "         5.15374905e-01,  9.47196961e-01,  7.62326410e-01,  2.15920197e-01,\n",
       "         1.32612160e-01,  2.14012239e+00,  5.98521246e-01, -1.64088652e-01,\n",
       "         1.47648022e+00, -2.28047090e+00, -6.99716103e-01, -2.28118077e+00,\n",
       "         5.34082217e-01, -1.12979379e+00,  5.17862956e-01,  9.37111674e-02,\n",
       "         9.10185853e-01,  7.92872000e-01,  9.24003909e-01, -1.10454966e-01,\n",
       "        -2.09456598e+00,  2.33785231e-01, -5.43417518e-01,  1.52082777e+00,\n",
       "        -1.48360831e+00,  2.38976485e-01,  1.69816839e+00, -9.36668468e-01,\n",
       "        -8.88129587e-01,  3.51131906e-01,  4.83209087e-01, -9.91365513e-01,\n",
       "        -3.94516595e-01,  1.28217546e+00,  5.62082386e-01,  9.71200801e-02,\n",
       "        -6.24182415e-01,  4.50565792e-01,  1.53402643e+00, -8.83449519e-01,\n",
       "         3.60093642e-01, -7.09591173e-01, -1.83793757e-01, -2.23653255e-01,\n",
       "         1.33803981e-02, -9.66967908e-01, -5.29841712e-01,  3.72953879e-01,\n",
       "        -1.31970750e+00, -1.72261982e+00,  8.46629725e-01, -6.79544068e-01,\n",
       "        -3.99151799e-01, -2.08085714e-01,  6.48618901e-01, -6.93379712e-01,\n",
       "         7.91391535e-01, -4.23481251e-01, -1.66704662e+00,  1.13191046e+00,\n",
       "         5.42689443e-01,  2.71001312e-01,  2.36717552e-01,  1.88113949e+00,\n",
       "        -7.67918559e-02, -5.16917939e-01,  6.66082589e-01,  1.15556660e+00,\n",
       "         1.75144289e+00, -1.27491998e+00, -8.94832784e-01, -8.73714208e-02,\n",
       "         8.67689779e-01,  1.79152442e-01, -1.49271078e-01, -2.18022834e-01,\n",
       "        -1.67182726e-01, -4.54124047e-01, -1.62279679e+00, -7.12739869e-01,\n",
       "        -9.94953117e-01, -9.99239036e-01,  4.66217450e-01,  6.11524858e-01,\n",
       "        -7.12017313e-01, -1.06955260e+00,  6.13148333e-01, -1.88424926e+00,\n",
       "        -1.66643943e+00, -2.90703928e-01,  5.58225510e-01,  1.24297860e+00,\n",
       "         5.35123043e-01, -5.39361936e-01, -1.23869820e+00,  8.90429758e-02,\n",
       "        -8.25084728e-01,  2.14438511e-01,  5.06054994e-01,  1.04051683e+00,\n",
       "        -5.78524892e-01, -4.68573897e-01, -3.52723699e-01,  3.10656965e-01,\n",
       "        -5.16516097e-01,  3.75175220e-01,  7.62115734e-01,  1.04339608e+00,\n",
       "         1.34401114e+00,  8.97602434e-01, -3.25804298e-01, -9.27827163e-01,\n",
       "        -4.21429029e-01,  5.60436856e-01,  3.02208987e+00,  1.78502565e+00,\n",
       "        -4.63785424e-01,  1.32988076e+00,  8.46764791e-01, -1.15099343e-01,\n",
       "         8.68743341e-01,  1.30536133e+00, -1.31659353e-01,  1.96364288e+00,\n",
       "        -1.58962404e+00, -5.83129750e-03,  2.00121235e+00,  6.92994728e-01,\n",
       "        -1.45228376e+00, -1.25976034e+00,  2.36918433e-01, -5.15203125e-01,\n",
       "        -9.87156798e-01, -8.07503591e-01, -9.17724508e-01, -1.31810800e+00,\n",
       "         1.82882086e+00, -1.41499013e+00,  6.14658747e-01, -1.76021737e-01,\n",
       "         2.74330358e+00, -4.58677223e-01,  2.21541318e-01,  2.14210216e-01,\n",
       "         1.03197634e+00, -1.67537570e+00, -1.15331435e+00,  9.16228148e-02,\n",
       "        -2.24700642e+00,  2.26985072e-01, -7.72538314e-01,  9.12158094e-01,\n",
       "        -2.71362328e-01, -1.53009434e+00, -1.26280075e+00, -5.94448901e-01,\n",
       "         1.14758211e+00, -5.01445235e-01,  6.42064970e-01, -2.09144855e-01,\n",
       "         1.93641675e+00, -7.58042936e-01, -1.09732090e+00,  8.90353714e-01,\n",
       "        -1.73993158e-01,  3.89721543e-01, -1.42824653e-01, -1.27439531e+00,\n",
       "         1.82655850e-01,  8.55883676e-01,  8.94697445e-01,  2.89412952e-01,\n",
       "         1.98034506e+00,  5.17306710e-01,  3.32470011e-01,  4.31670619e-02,\n",
       "         7.61207974e-01, -8.26746483e-01, -9.24520628e-01,  3.36313789e-01,\n",
       "         1.56685292e+00,  1.09802002e+00, -4.51225277e-01,  2.50677108e+00,\n",
       "         4.63207594e-01, -2.82877189e-01, -9.89285596e-02, -4.09892418e-01,\n",
       "        -1.31670466e+00,  1.14145781e+00,  3.20224060e-01, -1.36073247e+00,\n",
       "         1.46783677e-01, -1.42356376e+00,  6.82191247e-02,  1.76935135e-01,\n",
       "        -2.77650415e-01, -9.92902053e-01, -6.51002588e-02, -7.97027489e-01,\n",
       "         3.38691046e-01,  1.84368714e-01,  2.14614232e+00,  4.16638040e-03,\n",
       "         1.64017140e+00, -3.74772754e-01,  9.72158844e-01,  1.52040856e+00,\n",
       "        -1.18226573e-01, -3.93739206e-01, -6.22111266e-01, -1.54314803e+00,\n",
       "        -6.15514695e-01,  1.42173649e+00, -1.70289302e+00,  6.23729311e-01,\n",
       "         3.07405629e-01, -5.65073729e-01,  1.54632795e+00,  1.02434155e+00,\n",
       "        -2.69690398e-01,  1.57261507e-01,  1.37152461e+00, -2.87589733e-01,\n",
       "         3.21908289e-01,  8.51553201e-01,  1.55372087e+00,  9.07225671e-01,\n",
       "         9.90609716e-01, -3.53076859e-01, -1.44453269e+00,  1.08956635e+00,\n",
       "         5.66810193e-01, -3.71730519e-01, -7.77573236e-01, -7.05029643e-01,\n",
       "        -1.03761014e+00, -3.50084332e-01, -1.38965295e-01, -1.89351851e+00,\n",
       "         3.75053245e-02, -6.86692212e-01,  9.10814998e-01,  2.07300977e+00,\n",
       "        -3.47788261e-01,  2.54770301e-01, -1.16664010e+00, -9.50434605e-01,\n",
       "        -4.83570453e-02, -2.54560218e+00,  9.34645196e-01, -3.18082273e-01,\n",
       "         3.19616850e-01,  1.63262786e+00, -1.68960485e+00,  8.50941082e-02,\n",
       "        -2.34630615e+00,  8.96115874e-01,  7.78441982e-01,  6.80774478e-01,\n",
       "        -6.03362150e-02, -9.30588230e-02,  1.64944544e-02,  1.09257300e-01,\n",
       "        -8.83953514e-01,  1.59367469e+00, -4.57502223e-01, -5.71694008e-02,\n",
       "         1.62179305e+00,  1.00569515e+00,  1.67194779e+00,  7.77439442e-01,\n",
       "         6.19302799e-01,  8.88374812e-01,  1.26741453e+00, -1.24859178e+00,\n",
       "         1.09022859e-01, -1.74885067e-01,  1.85520481e-02,  2.44871844e-01,\n",
       "         1.41842432e+00,  3.92247415e-01,  1.11366833e-01, -5.19736811e-01,\n",
       "        -2.70138294e-01, -1.47192823e+00,  3.30412979e-01, -1.45586608e+00,\n",
       "         1.34898146e+00,  2.91782727e-01,  2.62350146e-01,  9.99171435e-01,\n",
       "        -1.84918594e-01, -6.26365916e-01, -1.16720048e+00, -5.91798108e-01,\n",
       "         6.33459208e-03,  9.18998947e-01, -2.70590352e-01,  2.11082443e+00,\n",
       "        -1.43902456e-01,  3.90475392e-01,  6.39490791e-01, -1.04426336e+00,\n",
       "        -1.17991125e+00, -1.25751581e+00,  1.17524748e+00, -1.57128580e-02,\n",
       "         1.38921690e-02, -1.65533935e-01, -1.59910483e+00,  7.94708541e-01,\n",
       "        -8.70510418e-02, -9.49242779e-01, -2.71622342e+00,  1.74963692e+00,\n",
       "        -1.63906871e+00, -2.21718439e+00, -2.09287506e-01,  8.05562485e-01,\n",
       "         8.94304421e-01,  4.22414630e-01,  6.26116369e-01, -1.16308763e+00,\n",
       "         2.30606152e+00, -5.26382428e-02, -4.68333752e-02, -8.81279747e-01,\n",
       "         1.31535369e+00,  5.86618271e-01, -4.83618064e-01,  7.00059371e-01,\n",
       "        -5.73451314e-01, -9.87261942e-02, -2.38495242e+00,  8.62154175e-01,\n",
       "         1.99244476e+00,  6.37547407e-01,  9.18673935e-01, -2.87850273e-01,\n",
       "        -5.74757211e-01,  3.83530234e-01,  7.05797170e-02,  2.15850910e+00,\n",
       "         1.44571532e+00, -1.73298398e+00, -1.14298634e+00, -1.84400953e-01,\n",
       "        -1.02592988e+00, -1.05173515e+00,  8.18170622e-01,  3.67082671e-01,\n",
       "        -3.10815056e-02, -8.22314192e-01, -4.31167218e-02,  4.86006685e-01,\n",
       "         1.52864139e+00,  5.79235988e-01,  1.02075155e+00, -8.02525454e-01,\n",
       "         8.63093444e-01, -2.59306824e-01,  1.67048938e+00, -9.72535815e-01,\n",
       "        -5.25356739e-01,  1.29477539e+00, -7.42602953e-01,  9.23266173e-03,\n",
       "        -6.76704750e-01, -5.10777902e-01,  1.05669282e-02, -4.84699691e-01,\n",
       "        -1.29770116e-01, -2.49435954e-02, -3.87480361e-01,  5.05246087e-01,\n",
       "        -5.81721651e-01,  1.30966277e+00, -1.71865424e+00,  2.61000595e-01,\n",
       "         1.07591655e+00,  4.72178280e-01,  7.76941007e-01,  1.73978762e+00,\n",
       "        -1.67198923e+00,  7.93587558e-01,  8.82470077e-01, -5.65734113e-01,\n",
       "        -1.71248137e+00,  7.54563950e-01,  1.06152249e+00,  6.31822998e-01,\n",
       "         2.22996970e-01, -9.19309810e-01,  2.87585830e-03, -4.82256432e-02,\n",
       "         1.61251800e+00, -1.86635384e+00,  1.39282559e+00,  5.82891670e-01,\n",
       "        -4.49146613e-01,  8.13113226e-01, -1.30726358e+00,  7.08809235e-01,\n",
       "         1.43076521e+00,  4.05567871e-01,  1.88320055e+00, -1.79111830e+00,\n",
       "        -1.54739026e+00,  7.96639831e-01,  1.80529139e-01,  2.81340954e+00,\n",
       "         7.71665810e-01,  7.61948577e-02,  2.27150464e+00,  9.22252456e-01,\n",
       "         1.05079389e+00, -2.98625375e-01,  8.93300937e-01, -1.01697635e+00,\n",
       "        -5.52100229e-01, -7.68339960e-01,  2.84568792e-02,  1.17542251e+00,\n",
       "        -1.36141170e+00,  2.01701924e-01,  1.11205487e+00,  1.48806952e+00,\n",
       "         4.45440451e-01,  6.59885180e-01, -2.84878660e-02, -2.03106405e+00,\n",
       "        -1.77490322e-01, -1.24725120e+00, -7.31817945e-01,  1.65374305e+00,\n",
       "         2.16229311e+00, -1.34426767e+00, -1.16989123e+00, -1.79548218e+00,\n",
       "        -1.04431543e+00,  2.82918479e-01,  5.73985799e-01,  5.11178744e-01,\n",
       "         2.57641863e-01, -1.23418584e+00, -4.38956457e-01,  5.19383644e-01,\n",
       "        -2.26737595e+00, -5.20628091e-01, -7.63525317e-01, -8.03325271e-01,\n",
       "         8.65335054e-02,  3.61289605e-01,  1.67806891e+00,  9.86384217e-01,\n",
       "        -1.93656576e+00,  8.19553709e-01, -6.14916988e-02,  1.44381539e+00,\n",
       "         2.26945464e-01, -1.85989663e+00, -8.63183916e-01, -4.38809322e-01,\n",
       "        -9.97083500e-01,  2.44473336e-01, -1.30458196e+00, -6.98338864e-01,\n",
       "         1.29982481e+00,  1.60891778e+00, -1.45441283e-01,  4.81128240e-01,\n",
       "         5.25617401e-01, -2.13818615e-01, -2.12135285e-01, -8.09209902e-01,\n",
       "         1.34664721e+00, -1.73172413e+00,  1.73756433e+00,  6.63208597e-01,\n",
       "         1.25243710e+00, -5.25645937e-01, -1.61219078e+00,  6.39609324e-01,\n",
       "        -1.23873547e+00,  1.23446412e+00, -6.97706724e-01,  3.06774411e-01,\n",
       "         9.77018100e-01, -4.83786110e-01,  8.32355168e-01,  4.36839920e-01,\n",
       "        -3.18806757e-01, -4.86813685e-01,  4.22979596e-01, -1.34950613e+00,\n",
       "        -1.24769210e-01,  2.75085972e+00, -2.66266819e-01, -1.52844020e+00,\n",
       "         2.29793414e+00,  8.45532654e-01, -6.48192177e-01, -2.34349785e+00,\n",
       "        -5.81251595e-01, -2.22718744e+00, -1.06996661e+00, -3.86270782e-01,\n",
       "         1.53987967e+00, -6.38967353e-01,  2.27416872e-01, -1.82034892e+00,\n",
       "        -6.87072310e-01,  1.19601995e+00,  2.06121979e-01,  9.49968837e-01,\n",
       "        -3.03662847e-01,  1.25697962e+00,  7.26688966e-01,  8.41120542e-01,\n",
       "        -4.07273896e-01,  1.07563401e+00, -7.41766244e-01,  4.47413248e-01,\n",
       "        -5.09921451e-01, -1.34996670e-01, -8.31343651e-01, -1.05905374e+00,\n",
       "         1.02106069e+00,  4.31090459e-01,  7.07947652e-01, -1.07228246e+00,\n",
       "        -1.56235030e+00,  2.57387160e-01,  4.15317103e-01, -8.77724913e-01,\n",
       "         1.83465153e+00, -7.35585961e-01, -6.01098378e-01,  5.48115762e-01,\n",
       "        -6.42602768e-01, -1.99739639e-01, -1.79684872e+00, -1.26399521e+00,\n",
       "         1.79449851e-01, -2.16691864e+00,  5.96194132e-01,  6.71604458e-01,\n",
       "        -5.14217223e-01, -8.70673474e-01,  1.22829318e-03, -1.15806986e+00,\n",
       "        -2.09455605e-01, -5.80270173e-01,  1.21462587e+00,  1.51896458e+00,\n",
       "        -3.39160466e-01, -1.01508775e+00,  1.32210530e+00,  8.76108003e-02,\n",
       "         1.39941735e+00,  5.86446184e-01, -2.04923124e-01, -5.00745728e-01,\n",
       "        -6.85076481e-01, -9.45815997e-01,  7.81398652e-01, -5.77321482e-01,\n",
       "        -7.82707890e-02, -8.26202060e-01, -2.50761928e-01,  7.77463011e-01,\n",
       "        -6.41898545e-01,  1.20584672e+00, -1.00191034e-01,  2.98454776e-01,\n",
       "         5.33526214e-01,  8.81093963e-01,  9.76120210e-01, -1.06359457e+00,\n",
       "        -7.93300858e-01,  8.56611640e-01,  3.91815087e-01,  1.98594423e-02,\n",
       "         3.32309566e-01, -3.21562099e-02, -2.00386612e+00, -4.84654918e-01,\n",
       "        -3.85309377e-01, -1.20127955e-02,  1.67234905e+00, -1.63914392e-01,\n",
       "        -4.03283054e-01, -5.71057084e-01, -1.71609259e+00, -9.48176551e-02,\n",
       "        -1.85482659e-01,  5.08399705e-02, -1.18088025e+00, -1.54129098e+00,\n",
       "         2.40110241e-01,  1.95304491e+00, -1.13393514e+00,  6.55832989e-01,\n",
       "         3.64690000e-01,  1.00029849e+00, -9.83063602e-01, -1.52529499e+00,\n",
       "        -1.90913003e-01,  8.28075236e-01,  2.03947961e+00,  3.65994628e-01,\n",
       "         1.98184199e-01,  1.16262038e+00,  9.74021680e-01, -4.55270162e-01,\n",
       "         1.04625976e+00, -1.71265484e+00,  2.27453192e-01,  1.31569985e+00,\n",
       "         2.50180819e-02,  1.08244651e+00,  1.33374641e+00, -8.31586331e-01,\n",
       "         4.75563519e-01,  7.23081250e-01, -5.20836960e-01,  1.34447502e-01,\n",
       "        -7.92959332e-01, -1.16873503e+00, -1.37394422e+00, -6.83557156e-01,\n",
       "         3.32500451e-01,  1.55948733e+00, -1.15512269e-01,  1.87359388e+00,\n",
       "        -1.10433698e-01, -7.75179208e-01,  9.94540886e-01, -2.67219815e-01]),\n",
       " array([-0.04564908, -0.37315208, -0.42081465, ...,  0.44772204,\n",
       "        -0.16957182,  0.90324486])]"
      ]
     },
     "execution_count": 44,
     "metadata": {},
     "output_type": "execute_result"
    }
   ],
   "source": [
    "samples"
   ]
  },
  {
   "cell_type": "markdown",
   "metadata": {},
   "source": [
    "**Постройте гистограммы распределений.**"
   ]
  },
  {
   "cell_type": "code",
   "execution_count": 45,
   "metadata": {},
   "outputs": [
    {
     "data": {
      "image/png": "[encoded data removed]",
      "text/plain": [
       "<Figure size 432x288 with 1 Axes>"
      ]
     },
     "metadata": {
      "needs_background": "light"
     },
     "output_type": "display_data"
    }
   ],
   "source": [
    "plt.hist(samples[0], bins=20)\n",
    "plt.show()"
   ]
  },
  {
   "cell_type": "code",
   "execution_count": 46,
   "metadata": {},
   "outputs": [
    {
     "data": {
      "image/png": "[encoded data removed]",
      "text/plain": [
       "<Figure size 432x288 with 1 Axes>"
      ]
     },
     "metadata": {
      "needs_background": "light"
     },
     "output_type": "display_data"
    }
   ],
   "source": [
    "plt.hist(samples[1], bins=20)\n",
    "plt.show()"
   ]
  },
  {
   "cell_type": "code",
   "execution_count": 47,
   "metadata": {},
   "outputs": [
    {
     "data": {
      "image/png": "[encoded data removed]",
      "text/plain": [
       "<Figure size 432x288 with 1 Axes>"
      ]
     },
     "metadata": {
      "needs_background": "light"
     },
     "output_type": "display_data"
    }
   ],
   "source": [
    "plt.hist(samples[2], bins=20)\n",
    "plt.show()"
   ]
  },
  {
   "cell_type": "code",
   "execution_count": 48,
   "metadata": {},
   "outputs": [
    {
     "data": {
      "image/png": "[encoded data removed]",
      "text/plain": [
       "<Figure size 432x288 with 1 Axes>"
      ]
     },
     "metadata": {
      "needs_background": "light"
     },
     "output_type": "display_data"
    }
   ],
   "source": [
    "plt.hist(samples[3], bins=20)\n",
    "plt.show()"
   ]
  },
  {
   "cell_type": "markdown",
   "metadata": {},
   "source": [
    "**Рассчитайте среднее значение, медиану и моду для каждой выборке и сравните эти величины в пределах выборки.**"
   ]
  },
  {
   "cell_type": "code",
   "execution_count": 69,
   "metadata": {},
   "outputs": [],
   "source": [
    "mean_values = []\n",
    "median_values = []\n",
    "for sample in samples:\n",
    "    mean_values.append(sample.mean())\n",
    "    median_values.append(np.median(sample))"
   ]
  },
  {
   "cell_type": "code",
   "execution_count": 70,
   "metadata": {},
   "outputs": [
    {
     "data": {
      "text/plain": [
       "[-0.24281119653834474,\n",
       " 0.2154157557658484,\n",
       " 0.03526645785145046,\n",
       " 0.0002683954935285346]"
      ]
     },
     "execution_count": 70,
     "metadata": {},
     "output_type": "execute_result"
    }
   ],
   "source": [
    "mean_values"
   ]
  },
  {
   "cell_type": "code",
   "execution_count": 71,
   "metadata": {},
   "outputs": [
    {
     "data": {
      "text/plain": [
       "[0.01473574300373795,\n",
       " 0.12669338613267012,\n",
       " 0.03731915508169862,\n",
       " 0.015269522718186768]"
      ]
     },
     "execution_count": 71,
     "metadata": {},
     "output_type": "execute_result"
    }
   ],
   "source": [
    "median_values"
   ]
  },
  {
   "cell_type": "code",
   "execution_count": 86,
   "metadata": {},
   "outputs": [
    {
     "data": {
      "text/plain": [
       "[0, 93, 96, 4036]"
      ]
     },
     "execution_count": 86,
     "metadata": {},
     "output_type": "execute_result"
    }
   ],
   "source": [
    "samples_around = []\n",
    "mode_values = []\n",
    "for sample in samples:\n",
    "    samples_around.append(np.around(sample))\n",
    "for sample in samples_around:\n",
    "    mode_values.append(np.argmax(sample))\n",
    "mode_values"
   ]
  },
  {
   "cell_type": "markdown",
   "metadata": {},
   "source": [
    "**Плотность распределения вероятностей нормальной случайной величины X имеет вид f(x) = g e^{-x^2 + 6x 3}. Требуется найти: a) неизвестный параметр g b) математическое ожидание M(X) и дисперсию D(X**"
   ]
  },
  {
   "cell_type": "code",
   "execution_count": null,
   "metadata": {},
   "outputs": [],
   "source": []
  }
 ],
 "metadata": {
  "kernelspec": {
   "display_name": "Python 3",
   "language": "python",
   "name": "python3"
  },
  "language_info": {
   "codemirror_mode": {
    "name": "ipython",
    "version": 3
   },
   "file_extension": ".py",
   "mimetype": "text/x-python",
   "name": "python",
   "nbconvert_exporter": "python",
   "pygments_lexer": "ipython3",
   "version": "3.7.4"
  }
 },
 "nbformat": 4,
 "nbformat_minor": 2
}
